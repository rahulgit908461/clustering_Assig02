{
 "cells": [
  {
   "cell_type": "code",
   "execution_count": 1,
   "id": "f00c8e68-7103-44dc-a81f-5a9e2b7e3db0",
   "metadata": {},
   "outputs": [],
   "source": [
    "#Q1. What is hierarchical clustering, and how is it different from other clustering techniques?"
   ]
  },
  {
   "cell_type": "code",
   "execution_count": 2,
   "id": "9e9de44a-4977-4fc7-a44a-c0eb05bbd07f",
   "metadata": {},
   "outputs": [],
   "source": [
    "#What is hierarchical clustering? It is a form of clustering algorithm that produces 1 to n clusters, where n \n",
    "#represents the number of observations in a data set. There are two types of hierarchical clustering, divisive \n",
    "#(top-down) and agglomerative (bottom-up)."
   ]
  },
  {
   "cell_type": "code",
   "execution_count": 3,
   "id": "ca398a85-d6d7-4e3d-8345-5b9c7cf5d296",
   "metadata": {},
   "outputs": [],
   "source": [
    "#Q2. What are the two main types of hierarchical clustering algorithms? Describe each in brief."
   ]
  },
  {
   "cell_type": "code",
   "execution_count": 4,
   "id": "625ee0ec-b418-4a6b-97c3-24e98f7ac5f5",
   "metadata": {},
   "outputs": [],
   "source": [
    "#(Agglomerative and Divisive clustering)\n",
    "#Hierarchical clustering involves creating clusters that have a predetermined ordering from top to bottom. \n",
    "#For example, all files and folders on the hard disk are organized in a hierarchy. There are two types of \n",
    "#hierarchical clustering, Divisive and Agglomerative."
   ]
  },
  {
   "cell_type": "code",
   "execution_count": 5,
   "id": "58d2efe7-a6a0-4d9d-9000-af5073489576",
   "metadata": {},
   "outputs": [],
   "source": [
    "#Q3. How do you determine the distance between two clusters in hierarchical clustering, and what are the\n",
    "#common distance metrics used?"
   ]
  },
  {
   "cell_type": "code",
   "execution_count": 6,
   "id": "902b54fd-a425-4783-b027-d8ec28a679b2",
   "metadata": {},
   "outputs": [],
   "source": [
    "#In complete linkage hierarchical clustering, the distance between two clusters is defined as the longest distance \n",
    "#between two points in each cluster. For example, the distance between clusters “r” and “s” to the left is equal to\n",
    "#the length of the arrow between their two furthest points.\n",
    "#For most common hierarchical clustering software, the default distance measure is the Euclidean distance. This is \n",
    "#the square root of the sum of the square differences. However, for gene expression, correlation distance is often \n",
    "#used."
   ]
  },
  {
   "cell_type": "code",
   "execution_count": 7,
   "id": "359acb51-ca73-4c56-af01-5acac7d8bc1a",
   "metadata": {},
   "outputs": [],
   "source": [
    "#Q4. How do you determine the optimal number of clusters in hierarchical clustering, and what are some\n",
    "#common methods used for this purpose?"
   ]
  },
  {
   "cell_type": "code",
   "execution_count": 8,
   "id": "8efc9199-668d-4182-9c8a-e7ee5b87fe4c",
   "metadata": {},
   "outputs": [],
   "source": [
    "#To get the optimal number of clusters for hierarchical clustering, we make use a dendrogram which is tree-like \n",
    "#chart that shows the sequences of merges or splits of clusters. If two clusters are merged, the dendrogram will \n",
    "#join them in a graph and the height of the join will be the distance between those clusters."
   ]
  },
  {
   "cell_type": "code",
   "execution_count": 9,
   "id": "d99610c1-f578-4ff0-a8e1-120695ed1805",
   "metadata": {},
   "outputs": [],
   "source": [
    "#Q5. What are dendrograms in hierarchical clustering, and how are they useful in analyzing the results?"
   ]
  },
  {
   "cell_type": "code",
   "execution_count": 10,
   "id": "d764bb30-1ab4-44bf-aa47-756bfba38fed",
   "metadata": {},
   "outputs": [],
   "source": [
    "#A dendrogram is a tree-structured graph used in heat maps to visualize the result of a hierarchical clustering \n",
    "#calculation. The result of a clustering is presented either as the distance or the similarity between the clustered \n",
    "#rows or columns depending on the selected distance measure."
   ]
  },
  {
   "cell_type": "code",
   "execution_count": 11,
   "id": "ca4dfa07-8041-4792-a1a5-13cf87fe8898",
   "metadata": {},
   "outputs": [],
   "source": [
    "#Q6. Can hierarchical clustering be used for both numerical and categorical data? If yes, how are the\n",
    "#distance metrics different for each type of data?"
   ]
  },
  {
   "cell_type": "code",
   "execution_count": 12,
   "id": "ae25adea-1900-4a2f-ba56-97ec71186759",
   "metadata": {},
   "outputs": [],
   "source": [
    "# Yes in both data can use hierarhical clustering \n",
    "#For most common hierarchical clustering software, the default distance measure is the Euclidean distance. \n",
    "#This is the square root of the sum of the square differences. However, for gene expression, correlation distance\n",
    "#is often used."
   ]
  },
  {
   "cell_type": "code",
   "execution_count": 13,
   "id": "d561386f-c399-4e6e-9198-b2775e922cf6",
   "metadata": {},
   "outputs": [],
   "source": [
    "#Q7. How can you use hierarchical clustering to identify outliers or anomalies in your data?"
   ]
  },
  {
   "cell_type": "code",
   "execution_count": 14,
   "id": "8102e11e-43e5-4826-838e-7af28abb95cb",
   "metadata": {},
   "outputs": [],
   "source": [
    "#Find out the threshold value for the dataset. If threshold value is greater than the distance than this object \n",
    "#is consider as outlier. In cluster based approach find out smallest cluster and consider those objects in smallest\n",
    "#cluster as outlier, it acts as a data reduction."
   ]
  },
  {
   "cell_type": "code",
   "execution_count": null,
   "id": "97178c61-5906-4dea-9305-b713990546b6",
   "metadata": {},
   "outputs": [],
   "source": []
  },
  {
   "cell_type": "code",
   "execution_count": null,
   "id": "2d8ebde9-c354-4f0f-8ae9-49bf7039fa5a",
   "metadata": {},
   "outputs": [],
   "source": []
  }
 ],
 "metadata": {
  "kernelspec": {
   "display_name": "Python 3 (ipykernel)",
   "language": "python",
   "name": "python3"
  },
  "language_info": {
   "codemirror_mode": {
    "name": "ipython",
    "version": 3
   },
   "file_extension": ".py",
   "mimetype": "text/x-python",
   "name": "python",
   "nbconvert_exporter": "python",
   "pygments_lexer": "ipython3",
   "version": "3.10.8"
  }
 },
 "nbformat": 4,
 "nbformat_minor": 5
}
